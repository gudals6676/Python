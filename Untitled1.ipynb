{
 "cells": [
  {
   "cell_type": "code",
   "execution_count": 1,
   "metadata": {
    "scrolled": true
   },
   "outputs": [
    {
     "name": "stdout",
     "output_type": "stream",
     "text": [
      "1\n",
      "2\n",
      "3\n"
     ]
    }
   ],
   "source": [
    "num = 1\n",
    "while True:\n",
    "    print(num)\n",
    "    num += 1\n",
    "    if num > 3 :\n",
    "        break"
   ]
  },
  {
   "cell_type": "code",
   "execution_count": 2,
   "metadata": {},
   "outputs": [
    {
     "name": "stdout",
     "output_type": "stream",
     "text": [
      "이름 입력 >> 김영주\n",
      "김영주 최고! \n",
      "이름 입력 >> 박윤빈\n",
      "박윤빈 최고! \n",
      "이름 입력 >> 최성우\n",
      "최성우 멋지다! \n"
     ]
    }
   ],
   "source": [
    "while True :\n",
    "    name = input(\"이름 입력 >> \")\n",
    "    \n",
    "    if name == \"최성우\" :\n",
    "        print(f\"{name} 멋지다! \")\n",
    "        break\n",
    "    print(f\"{name} 최고! \")"
   ]
  },
  {
   "cell_type": "code",
   "execution_count": 12,
   "metadata": {
    "scrolled": true
   },
   "outputs": [
    {
     "name": "stdout",
     "output_type": "stream",
     "text": [
      "첫 번째 정수 입력 >> 1\n",
      "두 번째 정수 입력 >> 2\n",
      "두 정수의 합 : 3\n",
      "첫 번째 정수 입력 >> 0\n",
      "두 번째 정수 입력 >> 0\n",
      "프로그램이 종료되었습니다,\n"
     ]
    }
   ],
   "source": [
    "while True :\n",
    "    a = int(input(\"첫 번째 정수 입력 >> \"))\n",
    "    b = int(input(\"두 번째 정수 입력 >> \"))\n",
    "    if a == 0 and b == 0:\n",
    "        break\n",
    "    print(f\"두 정수의 합 : {a+b}\")\n",
    "print(\"프로그램이 종료되었습니다,\")"
   ]
  },
  {
   "cell_type": "code",
   "execution_count": 14,
   "metadata": {},
   "outputs": [
    {
     "name": "stdout",
     "output_type": "stream",
     "text": [
      "현재 몸무게 : 80\n",
      "목표 몸무게 : 70\n",
      "1주차 감량 몸무게 : 2\n",
      "2주차 감량 몸무게 : 3\n",
      "3주차 감량 몸무게 : 4\n",
      "4주차 감량 몸무게 : 5\n",
      "66 kg 달성 \n"
     ]
    }
   ],
   "source": [
    "now = int(input(\"현재 몸무게 : \"))\n",
    "goal = int(input(\"목표 몸무게 : \"))\n",
    "num = 1\n",
    "while now >= goal :\n",
    "    weak_a = int(input(f\"{num}주차 감량 몸무게 : \"))\n",
    "    num += 1\n",
    "    now -= weak_a\n",
    "print(f\"{now} kg 달성 \")\n",
    "    "
   ]
  }
 ],
 "metadata": {
  "kernelspec": {
   "display_name": "Python 3",
   "language": "python",
   "name": "python3"
  },
  "language_info": {
   "codemirror_mode": {
    "name": "ipython",
    "version": 3
   },
   "file_extension": ".py",
   "mimetype": "text/x-python",
   "name": "python",
   "nbconvert_exporter": "python",
   "pygments_lexer": "ipython3",
   "version": "3.8.5"
  }
 },
 "nbformat": 4,
 "nbformat_minor": 4
}
