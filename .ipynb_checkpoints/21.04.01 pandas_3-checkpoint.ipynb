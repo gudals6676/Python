{
 "cells": [
  {
   "cell_type": "code",
   "execution_count": 1,
   "metadata": {},
   "outputs": [],
   "source": [
    "import numpy as np\n",
    "import pandas as pd"
   ]
  },
  {
   "cell_type": "code",
   "execution_count": 11,
   "metadata": {},
   "outputs": [
    {
     "data": {
      "text/plain": [
       "서울    9631482\n",
       "부산    3393191\n",
       "인천    2632035\n",
       "대전    1490158\n",
       "dtype: int64"
      ]
     },
     "execution_count": 11,
     "metadata": {},
     "output_type": "execute_result"
    }
   ],
   "source": [
    "###딕셔너리 객체로 Series생성\n",
    "#-딕셔너리는 key 와 value로 구성\n",
    "#-key 값은 index\n",
    "#-value값은 value\n",
    "\n",
    "data={\"서울\":9631482,\n",
    "     \"부산\":3393191,\n",
    "     \"인천\":2632035,\n",
    "     \"대전\":1490158}\n",
    "population = pd.Series(data) #2010년 인구수를 딕셔너리객체로 Series생성\n",
    "population"
   ]
  },
  {
   "cell_type": "code",
   "execution_count": 12,
   "metadata": {},
   "outputs": [
    {
     "data": {
      "text/plain": [
       "도시\n",
       "서울    9904124\n",
       "부산    3448736\n",
       "인천    2895432\n",
       "대구    2466052\n",
       "Name: 인구, dtype: int64"
      ]
     },
     "execution_count": 12,
     "metadata": {},
     "output_type": "execute_result"
    }
   ],
   "source": [
    "population1= pd.Series([9904124,3448736,2895432,2466052], index= ['서울', '부산','인천','대구'])\n",
    "population1\n",
    "population1.name=\"인구\"   \n",
    "population1.index.name=\"도시\"\n",
    "population1"
   ]
  },
  {
   "cell_type": "code",
   "execution_count": 13,
   "metadata": {},
   "outputs": [
    {
     "data": {
      "text/plain": [
       "지역\n",
       "서울    9631482\n",
       "부산    3393191\n",
       "인천    2632035\n",
       "대전    1490158\n",
       "Name: 헤으응, dtype: int64"
      ]
     },
     "execution_count": 13,
     "metadata": {},
     "output_type": "execute_result"
    }
   ],
   "source": [
    "population.index.name=\"지역\"\n",
    "population.name=\"헤으응\"\n",
    "population"
   ]
  },
  {
   "cell_type": "code",
   "execution_count": 20,
   "metadata": {},
   "outputs": [
    {
     "data": {
      "text/plain": [
       "대구         NaN\n",
       "대전         NaN\n",
       "부산     55545.0\n",
       "서울    272642.0\n",
       "인천    263397.0\n",
       "dtype: float64"
      ]
     },
     "execution_count": 20,
     "metadata": {},
     "output_type": "execute_result"
    }
   ],
   "source": [
    "sub_population = population1-population\n",
    "\n",
    "sub_population "
   ]
  },
  {
   "cell_type": "code",
   "execution_count": 21,
   "metadata": {},
   "outputs": [
    {
     "data": {
      "text/plain": [
       "대구   NaN\n",
       "대전   NaN\n",
       "dtype: float64"
      ]
     },
     "execution_count": 21,
     "metadata": {},
     "output_type": "execute_result"
    }
   ],
   "source": [
    "#boolean인덱싱을 통해서\n",
    "#null값만 출력\n",
    "#isnull\n",
    "sub_population[sub_population.isnull()]"
   ]
  },
  {
   "cell_type": "code",
   "execution_count": 22,
   "metadata": {},
   "outputs": [
    {
     "data": {
      "text/plain": [
       "부산     55545.0\n",
       "서울    272642.0\n",
       "인천    263397.0\n",
       "dtype: float64"
      ]
     },
     "execution_count": 22,
     "metadata": {},
     "output_type": "execute_result"
    }
   ],
   "source": [
    "##**null이 아닌값만 출력\n",
    "#***notnull***#\n",
    "sub_population[sub_population.notnull()]"
   ]
  },
  {
   "cell_type": "code",
   "execution_count": 24,
   "metadata": {},
   "outputs": [
    {
     "data": {
      "text/plain": [
       "대구         NaN\n",
       "대전     80000.0\n",
       "부산     55545.0\n",
       "서울    272642.0\n",
       "인천    263397.0\n",
       "dtype: float64"
      ]
     },
     "execution_count": 24,
     "metadata": {},
     "output_type": "execute_result"
    }
   ],
   "source": [
    "###Series갱신, 추가, 삭제\n",
    "#갱신, 추가\n",
    "#변수[인덱스]=값\n",
    "#sub_population 의 대전값 갱신\n",
    "sub_population[\"대전\"] = 80000 \n",
    "sub_population "
   ]
  },
  {
   "cell_type": "code",
   "execution_count": 26,
   "metadata": {},
   "outputs": [
    {
     "data": {
      "text/plain": [
       "대구         NaN\n",
       "대전     80000.0\n",
       "부산     55545.0\n",
       "서울    272642.0\n",
       "인천    263397.0\n",
       "광주    100000.0\n",
       "dtype: float64"
      ]
     },
     "execution_count": 26,
     "metadata": {},
     "output_type": "execute_result"
    }
   ],
   "source": [
    "#광주값 추가\n",
    "sub_population[\"광주\"] = 100000\n",
    "sub_population "
   ]
  },
  {
   "cell_type": "code",
   "execution_count": 27,
   "metadata": {},
   "outputs": [
    {
     "data": {
      "text/plain": [
       "대전     80000.0\n",
       "부산     55545.0\n",
       "서울    272642.0\n",
       "인천    263397.0\n",
       "광주    100000.0\n",
       "dtype: float64"
      ]
     },
     "execution_count": 27,
     "metadata": {},
     "output_type": "execute_result"
    }
   ],
   "source": [
    "#삭제 \n",
    "#del변수[인덱스]\n",
    "#대구값 삭제\n",
    "del sub_population[\"대구\"]\n",
    "sub_population \n"
   ]
  },
  {
   "cell_type": "code",
   "execution_count": 28,
   "metadata": {},
   "outputs": [
    {
     "data": {
      "text/plain": [
       "부산     55545.0\n",
       "서울    272642.0\n",
       "인천    263397.0\n",
       "광주    100000.0\n",
       "dtype: float64"
      ]
     },
     "execution_count": 28,
     "metadata": {},
     "output_type": "execute_result"
    }
   ],
   "source": [
    "#변수 .drop(인덱스)\n",
    "sub_population.drop(\"대전\") "
   ]
  }
 ],
 "metadata": {
  "kernelspec": {
   "display_name": "Python 3",
   "language": "python",
   "name": "python3"
  },
  "language_info": {
   "codemirror_mode": {
    "name": "ipython",
    "version": 3
   },
   "file_extension": ".py",
   "mimetype": "text/x-python",
   "name": "python",
   "nbconvert_exporter": "python",
   "pygments_lexer": "ipython3",
   "version": "3.8.5"
  }
 },
 "nbformat": 4,
 "nbformat_minor": 4
}
