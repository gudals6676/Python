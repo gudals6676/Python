{
 "cells": [
  {
   "cell_type": "code",
   "execution_count": 3,
   "metadata": {},
   "outputs": [],
   "source": [
    "import pandas as pd\n",
    "import numpy as np\n"
   ]
  },
  {
   "cell_type": "code",
   "execution_count": 6,
   "metadata": {},
   "outputs": [
    {
     "data": {
      "text/plain": [
       "도시\n",
       "서울    9904124\n",
       "부산    3448736\n",
       "인천    2895432\n",
       "대구    2466052\n",
       "Name: 인구, dtype: int64"
      ]
     },
     "execution_count": 6,
     "metadata": {},
     "output_type": "execute_result"
    }
   ],
   "source": [
    "###Series 연산 ###\n",
    "population= pd.Series([9904124,3448736,2895432,2466052], index= ['서울', '부산','인천','대구'])\n",
    "population\n",
    "population.name=\"인구\"   #값에 이름 달기\n",
    "#인덱스에 이름달기\n",
    "population.index.name=\"도시\"\n",
    "population"
   ]
  },
  {
   "cell_type": "code",
   "execution_count": 8,
   "metadata": {},
   "outputs": [
    {
     "data": {
      "text/plain": [
       "도시\n",
       "서울    9.904124\n",
       "부산    3.448736\n",
       "인천    2.895432\n",
       "대구    2.466052\n",
       "Name: 인구, dtype: float64"
      ]
     },
     "execution_count": 8,
     "metadata": {},
     "output_type": "execute_result"
    }
   ],
   "source": [
    "population/1000000"
   ]
  },
  {
   "cell_type": "code",
   "execution_count": 11,
   "metadata": {},
   "outputs": [
    {
     "name": "stdout",
     "output_type": "stream",
     "text": [
      "9904124\n",
      "9904124\n"
     ]
    }
   ],
   "source": [
    "### Series 인덱싱 , 슬라이싱####\n",
    "#인덱싱\n",
    "#Series에서는 index에 값을 지정해줬을때\n",
    "#index값과 index번호 둘다 인덱싱에 사용가능 \n",
    "print(population[0])\n",
    "print(population[\"서울\"])"
   ]
  },
  {
   "cell_type": "code",
   "execution_count": 14,
   "metadata": {
    "scrolled": true
   },
   "outputs": [
    {
     "data": {
      "text/plain": [
       "도시\n",
       "인천    2895432\n",
       "서울    9904124\n",
       "부산    3448736\n",
       "Name: 인구, dtype: int64"
      ]
     },
     "execution_count": 14,
     "metadata": {},
     "output_type": "execute_result"
    }
   ],
   "source": [
    "# 한번에 여러 값 인덱싱하기\n",
    "#***리스트값**을 통해 여러가지 값 인덱싱 가능\n",
    "#원하는 순서대로 값을 가져올 수 있다.\n",
    "population[[\"인천\", \"서울\", \"부산\"]]\n"
   ]
  },
  {
   "cell_type": "code",
   "execution_count": 16,
   "metadata": {
    "scrolled": true
   },
   "outputs": [
    {
     "data": {
      "text/plain": [
       "도시\n",
       "서울     True\n",
       "부산     True\n",
       "인천     True\n",
       "대구    False\n",
       "Name: 인구, dtype: bool"
      ]
     },
     "execution_count": 16,
     "metadata": {},
     "output_type": "execute_result"
    }
   ],
   "source": [
    "# boolean 인덱싱\n",
    "population >= 2500000"
   ]
  },
  {
   "cell_type": "code",
   "execution_count": 18,
   "metadata": {},
   "outputs": [
    {
     "data": {
      "text/plain": [
       "도시\n",
       "서울    9904124\n",
       "부산    3448736\n",
       "인천    2895432\n",
       "Name: 인구, dtype: int64"
      ]
     },
     "execution_count": 18,
     "metadata": {},
     "output_type": "execute_result"
    }
   ],
   "source": [
    "population[population >= 2500000]"
   ]
  },
  {
   "cell_type": "code",
   "execution_count": 22,
   "metadata": {},
   "outputs": [
    {
     "data": {
      "text/plain": [
       "도시\n",
       "부산    3448736\n",
       "인천    2895432\n",
       "Name: 인구, dtype: int64"
      ]
     },
     "execution_count": 22,
     "metadata": {},
     "output_type": "execute_result"
    }
   ],
   "source": [
    "#두가지 이상의 조건으로 boolean인덱싱 하기\n",
    "#250만 이상 , 500만 이하 인구를 가지는 도시 추출!!\n",
    "population[(population >= 2500000) & (population <=5000000)]"
   ]
  },
  {
   "cell_type": "code",
   "execution_count": 24,
   "metadata": {},
   "outputs": [
    {
     "name": "stdout",
     "output_type": "stream",
     "text": [
      "도시\n",
      "부산    3448736\n",
      "인천    2895432\n",
      "Name: 인구, dtype: int64\n",
      "도시\n",
      "부산    3448736\n",
      "인천    2895432\n",
      "Name: 인구, dtype: int64\n"
     ]
    }
   ],
   "source": [
    "# ***********슬라이싱*************#\n",
    "### index 값을 사용 [이상 : 이하]###\n",
    "### index 번호를 사용 [이상 : 미만]###\n",
    "#- 부산과 , 인천 출력 \n",
    "print(population[1:3])   #[이상 : 미만]\n",
    "print(population[\"부산\": \"인천\"]) #[이상 : 이하]"
   ]
  },
  {
   "cell_type": "code",
   "execution_count": 27,
   "metadata": {},
   "outputs": [
    {
     "data": {
      "text/plain": [
       "국어     95\n",
       "영어    100\n",
       "수학     80\n",
       "과학     90\n",
       "사회     50\n",
       "dtype: int64"
      ]
     },
     "execution_count": 27,
     "metadata": {},
     "output_type": "execute_result"
    }
   ],
   "source": [
    "### 연습뮨제 ###\n",
    "#-스마트중학교 1학년 1반의 중간고사 성적(국어, 영어, 수학, 과학, 사회)점수를 series 데이터로 생성하시오\n",
    "pd.Series([95, 100, 80, 90, 50])\n",
    "a = pd.Series([95, 100, 80, 90, 50],\n",
    "             index=[\"국어\", \"영어\", \"수학\", \"과학\", \"사회\"])\n",
    "a"
   ]
  },
  {
   "cell_type": "code",
   "execution_count": 29,
   "metadata": {},
   "outputs": [
    {
     "data": {
      "text/plain": [
       "과목\n",
       "국어     95\n",
       "영어    100\n",
       "수학     80\n",
       "과학     90\n",
       "사회     50\n",
       "Name: 중간고사 성적, dtype: int64"
      ]
     },
     "execution_count": 29,
     "metadata": {},
     "output_type": "execute_result"
    }
   ],
   "source": [
    "a.name=\"중간고사 성적\"\n",
    "a.index.name=\"과목\"\n",
    "a"
   ]
  },
  {
   "cell_type": "code",
   "execution_count": 36,
   "metadata": {},
   "outputs": [
    {
     "name": "stdout",
     "output_type": "stream",
     "text": [
      "과목\n",
      "국어     95\n",
      "영어    100\n",
      "수학     80\n",
      "Name: 중간고사 성적, dtype: int64\n",
      "과목\n",
      "국어     95\n",
      "영어    100\n",
      "수학     80\n",
      "Name: 중간고사 성적, dtype: int64\n"
     ]
    }
   ],
   "source": [
    "print(a[:3])\n",
    "print(a[\"국어\": \"수학\"])"
   ]
  },
  {
   "cell_type": "code",
   "execution_count": 37,
   "metadata": {
    "scrolled": true
   },
   "outputs": [
    {
     "data": {
      "text/plain": [
       "과목\n",
       "국어     95\n",
       "영어    100\n",
       "과학     90\n",
       "Name: 중간고사 성적, dtype: int64"
      ]
     },
     "execution_count": 37,
     "metadata": {},
     "output_type": "execute_result"
    }
   ],
   "source": [
    "a[a>=85]"
   ]
  },
  {
   "cell_type": "code",
   "execution_count": 39,
   "metadata": {},
   "outputs": [
    {
     "data": {
      "text/plain": [
       "과목\n",
       "수학    80\n",
       "과학    90\n",
       "Name: 중간고사 성적, dtype: int64"
      ]
     },
     "execution_count": 39,
     "metadata": {},
     "output_type": "execute_result"
    }
   ],
   "source": [
    "#- 80점이상 90점이하\n",
    "a[(a>=80)&(a<=90)]"
   ]
  },
  {
   "cell_type": "code",
   "execution_count": 44,
   "metadata": {},
   "outputs": [
    {
     "name": "stdout",
     "output_type": "stream",
     "text": [
      "83.0\n",
      "415\n",
      "100\n"
     ]
    }
   ],
   "source": [
    "###******평균, 합계, 최대값*********###\n",
    "print(np.mean(a))#평균\n",
    "print(np.sum(a))#합계\n",
    "print(np.max(a))#최대값"
   ]
  },
  {
   "cell_type": "code",
   "execution_count": null,
   "metadata": {},
   "outputs": [],
   "source": []
  }
 ],
 "metadata": {
  "kernelspec": {
   "display_name": "Python 3",
   "language": "python",
   "name": "python3"
  },
  "language_info": {
   "codemirror_mode": {
    "name": "ipython",
    "version": 3
   },
   "file_extension": ".py",
   "mimetype": "text/x-python",
   "name": "python",
   "nbconvert_exporter": "python",
   "pygments_lexer": "ipython3",
   "version": "3.8.5"
  }
 },
 "nbformat": 4,
 "nbformat_minor": 4
}
