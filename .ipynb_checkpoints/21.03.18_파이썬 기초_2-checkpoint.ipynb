{
 "cells": [
  {
   "cell_type": "markdown",
   "metadata": {},
   "source": [
    "# 연산자 "
   ]
  },
  {
   "cell_type": "code",
   "execution_count": 2,
   "metadata": {},
   "outputs": [
    {
     "name": "stdout",
     "output_type": "stream",
     "text": [
      "1.4285714285714286\n",
      "3\n",
      "1\n"
     ]
    }
   ],
   "source": [
    "num1 = 10\n",
    "num2 = 7\n",
    "print(num1/num2)\n",
    "print(num1%num2)\n",
    "print(num1//num2)"
   ]
  },
  {
   "cell_type": "code",
   "execution_count": 3,
   "metadata": {},
   "outputs": [
    {
     "name": "stdout",
     "output_type": "stream",
     "text": [
      "107\n"
     ]
    }
   ],
   "source": [
    "str1 = \"10\"\n",
    "str2 = \"7\"\n",
    "\n",
    "print(str1+str2)"
   ]
  },
  {
   "cell_type": "code",
   "execution_count": 4,
   "metadata": {},
   "outputs": [
    {
     "name": "stdout",
     "output_type": "stream",
     "text": [
      "107\n",
      "17\n"
     ]
    }
   ],
   "source": [
    "num1 = 10 \n",
    "str2 = \"7\"\n",
    "\n",
    "print(str(num1)+str2)\n",
    "print(num1+int(str2))"
   ]
  },
  {
   "cell_type": "code",
   "execution_count": 5,
   "metadata": {},
   "outputs": [
    {
     "name": "stdout",
     "output_type": "stream",
     "text": [
      "더하기 결과 : 26\n",
      "빼기 결과 : 20\n",
      "곱하기 결과 : 69\n",
      "나누기 결과 : 7.666666666666667\n"
     ]
    }
   ],
   "source": [
    "num1 = 23\n",
    "num2 = 3\n",
    "\n",
    "print(\"더하기 결과 :\",num1+num2)\n",
    "print(\"빼기 결과 :\",num1-num2)\n",
    "print(\"곱하기 결과 :\",num1*num2)\n",
    "print(\"나누기 결과 :\",num1/num2)"
   ]
  },
  {
   "cell_type": "code",
   "execution_count": 9,
   "metadata": {},
   "outputs": [
    {
     "name": "stdout",
     "output_type": "stream",
     "text": [
      "정수를 입력하세요 >>133\n"
     ]
    }
   ],
   "source": [
    "num = int(input(\"정수를 입력하세요 >>\"))"
   ]
  },
  {
   "cell_type": "code",
   "execution_count": 10,
   "metadata": {},
   "outputs": [
    {
     "data": {
      "text/plain": [
       "133"
      ]
     },
     "execution_count": 10,
     "metadata": {},
     "output_type": "execute_result"
    }
   ],
   "source": [
    "num"
   ]
  },
  {
   "cell_type": "code",
   "execution_count": 15,
   "metadata": {
    "scrolled": true
   },
   "outputs": [
    {
     "name": "stdout",
     "output_type": "stream",
     "text": [
      "정수를 입력하세요 >> 3\n",
      "정수를 입력하세요 >> 7\n",
      "더하기 결과 : 10\n",
      "빼기 결과 : -4\n",
      "곱하기 결과 : 21\n",
      "나누기 결과 : 0.42857142857142855\n"
     ]
    }
   ],
   "source": [
    "num1 = int(input(\"정수를 입력하세요 >> \"))\n",
    "num2 = int(input(\"정수를 입력하세요 >> \"))\n",
    "print(\"더하기 결과 :\",num1+num2)\n",
    "print(\"빼기 결과 :\",num1-num2)\n",
    "print(\"곱하기 결과 :\",num1*num2)\n",
    "print(\"나누기 결과 :\",num1/num2)"
   ]
  },
  {
   "cell_type": "code",
   "execution_count": 17,
   "metadata": {},
   "outputs": [
    {
     "name": "stdout",
     "output_type": "stream",
     "text": [
      "python점수 입력>>100\n",
      "머신러닝 점수 입력>>80\n",
      "딥러닝 점수 입력>>60\n",
      "합계 : 240\n",
      "평균: 80.0\n"
     ]
    }
   ],
   "source": [
    "a=int(input(\"python점수 입력>>\"))\n",
    "b=int(input(\"머신러닝 점수 입력>>\"))\n",
    "c=int(input(\"딥러닝 점수 입력>>\"))\n",
    "d=a+b+c\n",
    "print(\"합계 :\",d)\n",
    "print(\"평균:\",d/3)\n"
   ]
  },
  {
   "cell_type": "code",
   "execution_count": 25,
   "metadata": {},
   "outputs": [
    {
     "name": "stdout",
     "output_type": "stream",
     "text": [
      "시간 입력 >> 7533\n",
      "2시간 5분 33초 \n"
     ]
    }
   ],
   "source": [
    "#시간을 초로 입력 받기\n",
    "time = int(input(\"시간 입력 >> \"))\n",
    "#시,분,초에 대한 연산 진행\n",
    "hour = time//3600       #time을 3600으로 나눈 몫임\n",
    "minute = (time%3600)//60  #time을 3600으로 나눈 나머지를 60으로 나눈 몫\n",
    "second = (time%3600)%60   #time을 3600으로 나눈 나머지를 60으로 나눈 나머지\n",
    "print(\"{}시간 {}분 {}초 \".format(hour,minute,second))"
   ]
  },
  {
   "cell_type": "code",
   "execution_count": 26,
   "metadata": {},
   "outputs": [
    {
     "name": "stdout",
     "output_type": "stream",
     "text": [
      "xxxxxxxxxx\n"
     ]
    }
   ],
   "source": [
    "s = \"x\"\n",
    "print(s*10)"
   ]
  },
  {
   "cell_type": "code",
   "execution_count": 27,
   "metadata": {},
   "outputs": [
    {
     "name": "stdout",
     "output_type": "stream",
     "text": [
      "안녕하세요안녕하세요\n"
     ]
    }
   ],
   "source": [
    "s=\"안녕하세요\"\n",
    "print(s*2)"
   ]
  },
  {
   "cell_type": "code",
   "execution_count": 28,
   "metadata": {},
   "outputs": [
    {
     "name": "stdout",
     "output_type": "stream",
     "text": [
      "정수 입력 >>2\n",
      "지수 입력 >>3\n",
      "2의 3승은 8입니다.\n"
     ]
    }
   ],
   "source": [
    "num = int(input(\"정수 입력 >>\"))\n",
    "power = int(input(\"지수 입력 >>\"))\n",
    "print(\"{}의 {}승은 {}입니다.\".format(num,power,num**power))\n",
    "\n"
   ]
  },
  {
   "cell_type": "code",
   "execution_count": 32,
   "metadata": {},
   "outputs": [
    {
     "name": "stdout",
     "output_type": "stream",
     "text": [
      "********** 연산하기 **********\n",
      "정수입력 >>10\n",
      "정수입력 >>20\n",
      "+연산자 입력 >>+\n",
      "10 + 20 = 30\n"
     ]
    }
   ],
   "source": [
    "print(\"*\"*10,\"연산하기\",\"*\"*10)\n",
    "num1 = int(input(\"정수입력 >>\"))\n",
    "num2 = int(input(\"정수입력 >>\"))\n",
    "cal = input((\"+연산자 입력 >>\"))\n",
    "print(\"{} + {} = {}\".format(num1,num2,num1+num2 ))"
   ]
  },
  {
   "cell_type": "code",
   "execution_count": null,
   "metadata": {},
   "outputs": [],
   "source": []
  },
  {
   "cell_type": "code",
   "execution_count": null,
   "metadata": {},
   "outputs": [],
   "source": []
  },
  {
   "cell_type": "code",
   "execution_count": null,
   "metadata": {},
   "outputs": [],
   "source": []
  },
  {
   "cell_type": "code",
   "execution_count": null,
   "metadata": {},
   "outputs": [],
   "source": []
  },
  {
   "cell_type": "code",
   "execution_count": null,
   "metadata": {},
   "outputs": [],
   "source": []
  },
  {
   "cell_type": "code",
   "execution_count": null,
   "metadata": {},
   "outputs": [],
   "source": []
  }
 ],
 "metadata": {
  "kernelspec": {
   "display_name": "Python 3",
   "language": "python",
   "name": "python3"
  },
  "language_info": {
   "codemirror_mode": {
    "name": "ipython",
    "version": 3
   },
   "file_extension": ".py",
   "mimetype": "text/x-python",
   "name": "python",
   "nbconvert_exporter": "python",
   "pygments_lexer": "ipython3",
   "version": "3.8.5"
  }
 },
 "nbformat": 4,
 "nbformat_minor": 4
}
