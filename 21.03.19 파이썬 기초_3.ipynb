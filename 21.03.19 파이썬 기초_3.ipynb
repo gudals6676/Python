{
 "cells": [
  {
   "cell_type": "markdown",
   "metadata": {},
   "source": []
  },
  {
   "cell_type": "code",
   "execution_count": 1,
   "metadata": {},
   "outputs": [
    {
     "data": {
      "text/plain": [
       "30"
      ]
     },
     "execution_count": 1,
     "metadata": {},
     "output_type": "execute_result"
    }
   ],
   "source": [
    "num = 27\n",
    "num += 3\n",
    "num"
   ]
  },
  {
   "cell_type": "code",
   "execution_count": 3,
   "metadata": {},
   "outputs": [
    {
     "data": {
      "text/plain": [
       "45"
      ]
     },
     "execution_count": 3,
     "metadata": {},
     "output_type": "execute_result"
    }
   ],
   "source": [
    "num = 100\n",
    "num -=55\n",
    "num"
   ]
  },
  {
   "cell_type": "code",
   "execution_count": 4,
   "metadata": {},
   "outputs": [
    {
     "data": {
      "text/plain": [
       "-10"
      ]
     },
     "execution_count": 4,
     "metadata": {},
     "output_type": "execute_result"
    }
   ],
   "source": [
    "num2 = 100\n",
    "num = num-55\n",
    "num"
   ]
  },
  {
   "cell_type": "code",
   "execution_count": 5,
   "metadata": {},
   "outputs": [
    {
     "data": {
      "text/plain": [
       "36"
      ]
     },
     "execution_count": 5,
     "metadata": {},
     "output_type": "execute_result"
    }
   ],
   "source": [
    "num = 27\n",
    "\n",
    "num += 3 \n",
    "num += 3 \n",
    "num += 3 \n",
    "num"
   ]
  },
  {
   "cell_type": "code",
   "execution_count": 6,
   "metadata": {},
   "outputs": [
    {
     "data": {
      "text/plain": [
       "25.0"
      ]
     },
     "execution_count": 6,
     "metadata": {},
     "output_type": "execute_result"
    }
   ],
   "source": [
    "num = 100\n",
    "num /= 2\n",
    "num /= 2\n",
    "num"
   ]
  },
  {
   "cell_type": "code",
   "execution_count": 7,
   "metadata": {},
   "outputs": [
    {
     "name": "stdout",
     "output_type": "stream",
     "text": [
      "a : 3\n",
      "b : 7\n"
     ]
    }
   ],
   "source": [
    "a = 3\n",
    "b = 7\n",
    "\n",
    "print(\"a : {}\".format(a))\n",
    "print(\"b : {}\".format(b))\n",
    "\n"
   ]
  },
  {
   "cell_type": "code",
   "execution_count": 8,
   "metadata": {},
   "outputs": [
    {
     "name": "stdout",
     "output_type": "stream",
     "text": [
      "a : 7\n",
      "b : 3\n"
     ]
    }
   ],
   "source": [
    "a,b = b,a\n",
    "print(\"a : {}\".format(a))\n",
    "print(\"b : {}\".format(b))"
   ]
  },
  {
   "cell_type": "code",
   "execution_count": 9,
   "metadata": {},
   "outputs": [
    {
     "name": "stdout",
     "output_type": "stream",
     "text": [
      "False\n",
      "True\n",
      "False\n",
      "True\n"
     ]
    }
   ],
   "source": [
    "a = 3\n",
    "b = 7\n",
    "\n",
    "print(a> b)\n",
    "print(a<= b)\n",
    "print(a == b)\n",
    "print(a!= b)\n"
   ]
  },
  {
   "cell_type": "code",
   "execution_count": 11,
   "metadata": {},
   "outputs": [],
   "source": [
    "import random"
   ]
  },
  {
   "cell_type": "code",
   "execution_count": 26,
   "metadata": {},
   "outputs": [
    {
     "name": "stdout",
     "output_type": "stream",
     "text": [
      "a:10 , b:7\n",
      "False\n",
      "True\n",
      "False\n",
      "True\n"
     ]
    }
   ],
   "source": [
    "a = random.randint(1,10)# 1~10까지 랜덤으로 가져옴\n",
    "b = random.randint(1,10)\n",
    "print(\"a:{} , b:{}\".format(a,b))\n",
    "\n",
    "print(a < b)\n",
    "print(a > b)\n",
    "print(a == b)\n",
    "print(a != b)"
   ]
  },
  {
   "cell_type": "code",
   "execution_count": 28,
   "metadata": {
    "scrolled": true
   },
   "outputs": [
    {
     "data": {
      "text/plain": [
       "True"
      ]
     },
     "execution_count": 28,
     "metadata": {},
     "output_type": "execute_result"
    }
   ],
   "source": [
    "a = 3\n",
    "b = 7\n",
    "not a == b"
   ]
  },
  {
   "cell_type": "code",
   "execution_count": 31,
   "metadata": {},
   "outputs": [
    {
     "data": {
      "text/plain": [
       "True"
      ]
     },
     "execution_count": 31,
     "metadata": {},
     "output_type": "execute_result"
    }
   ],
   "source": [
    "3 < 5 and 10 < 20\n"
   ]
  },
  {
   "cell_type": "code",
   "execution_count": 36,
   "metadata": {},
   "outputs": [
    {
     "data": {
      "text/plain": [
       "False"
      ]
     },
     "execution_count": 36,
     "metadata": {},
     "output_type": "execute_result"
    }
   ],
   "source": [
    "3 == 5 or 10 > 20"
   ]
  },
  {
   "cell_type": "code",
   "execution_count": 40,
   "metadata": {},
   "outputs": [
    {
     "data": {
      "text/plain": [
       "'합격'"
      ]
     },
     "execution_count": 40,
     "metadata": {},
     "output_type": "execute_result"
    }
   ],
   "source": [
    "score = 80\n",
    "\"합격\" if score >= 60 else \"불합격\""
   ]
  },
  {
   "cell_type": "code",
   "execution_count": 41,
   "metadata": {},
   "outputs": [
    {
     "data": {
      "text/plain": [
       "'합격'"
      ]
     },
     "execution_count": 41,
     "metadata": {},
     "output_type": "execute_result"
    }
   ],
   "source": [
    "socre = 30\n",
    "\"합격\" if score >= 60 else \"불합격\""
   ]
  },
  {
   "cell_type": "code",
   "execution_count": null,
   "metadata": {},
   "outputs": [],
   "source": []
  },
  {
   "cell_type": "code",
   "execution_count": 42,
   "metadata": {},
   "outputs": [
    {
     "data": {
      "text/plain": [
       "'합격'"
      ]
     },
     "execution_count": 42,
     "metadata": {},
     "output_type": "execute_result"
    }
   ],
   "source": [
    "socre = 30\n",
    "\"합격\" if score >= 60 else \"불합격\""
   ]
  },
  {
   "cell_type": "code",
   "execution_count": 51,
   "metadata": {},
   "outputs": [
    {
     "name": "stdout",
     "output_type": "stream",
     "text": [
      "정수입력 >>3\n",
      "정수입력 >>10\n",
      "b: 10\n"
     ]
    }
   ],
   "source": [
    "a = int(input(\"정수입력 >>\"))\n",
    "b = int(input(\"정수입력 >>\"))\n",
    "\n",
    "print(\"a:\",a)if a>b else print(\"b:\",b)"
   ]
  },
  {
   "cell_type": "code",
   "execution_count": 53,
   "metadata": {},
   "outputs": [
    {
     "name": "stdout",
     "output_type": "stream",
     "text": [
      "a: 3\n"
     ]
    }
   ],
   "source": [
    "print(\"a:\",a)if a<b else print(\"b:\",b)"
   ]
  },
  {
   "cell_type": "code",
   "execution_count": 60,
   "metadata": {},
   "outputs": [
    {
     "name": "stdout",
     "output_type": "stream",
     "text": [
      "정수 입력>>33\n",
      "33 는(은) 홀수입니다.\n"
     ]
    }
   ],
   "source": [
    "a = int(input(\"정수 입력>>\"))\n",
    "print(a,\"는(은) 짝수입니다.\") if a % 2 == 0 else print(a,\"는(은) 홀수입니다.\") \n"
   ]
  },
  {
   "cell_type": "code",
   "execution_count": 63,
   "metadata": {},
   "outputs": [
    {
     "name": "stdout",
     "output_type": "stream",
     "text": [
      "점수 입력 >>26\n",
      "26 는(은)짝수입니다.\n"
     ]
    }
   ],
   "source": [
    "a = int(input(\"점수 입력 >>\"))\n",
    "print(a,\"는(은)짝수입니다.\") if a % 2 == 0 else print(a,\"는(은)홀수입니다.\")"
   ]
  },
  {
   "cell_type": "code",
   "execution_count": 75,
   "metadata": {},
   "outputs": [
    {
     "name": "stdout",
     "output_type": "stream",
     "text": [
      "점수입력 >>10\n",
      "점수입력 >>5\n",
      "b :  5\n"
     ]
    }
   ],
   "source": [
    "a = int(input(\"점수입력 >>\"))\n",
    "b = int(input(\"점수입력 >>\"))\n",
    "\n",
    "print(\"a : \",a) if a < b else print(\"b : \",b)"
   ]
  },
  {
   "cell_type": "code",
   "execution_count": 68,
   "metadata": {},
   "outputs": [
    {
     "name": "stdout",
     "output_type": "stream",
     "text": [
      "첫 번째 정수 입력 >>10\n",
      "두 번째 정수 입력 >>5\n",
      "두 수의 차: 5\n"
     ]
    }
   ],
   "source": [
    "a = int(input(\"첫 번째 정수 입력 >>\"))\n",
    "b = int(input(\"두 번째 정수 입력 >>\"))\n",
    "\n",
    "print(\"두 수의 차:\",a-b) if a>b else print(\"두 수의 차: \",b-a)"
   ]
  },
  {
   "cell_type": "code",
   "execution_count": 69,
   "metadata": {},
   "outputs": [
    {
     "name": "stdout",
     "output_type": "stream",
     "text": [
      "첫 번째 정수 입력 >>5\n",
      "두 번째 정수 입력 >>10\n",
      "두 수의 차 :  5\n"
     ]
    }
   ],
   "source": [
    "a = int(input(\"첫 번째 정수 입력 >>\"))\n",
    "b = int(input(\"두 번째 정수 입력 >>\"))\n",
    "print(\"두 수의 차 :\",a-b)if a > b else print(\"두 수의 차 : \",b-a)\n"
   ]
  },
  {
   "cell_type": "code",
   "execution_count": 71,
   "metadata": {},
   "outputs": [
    {
     "name": "stdout",
     "output_type": "stream",
     "text": [
      "점수 입력 >>35\n",
      "35 은(는) 홀수입니다.\n"
     ]
    }
   ],
   "source": [
    "a = int(input(\"점수 입력 >>\"))\n",
    "print(a,\"는(은) 짝수입니다.\")if a % 2 == 0 else print(a,\"은(는) 홀수입니다.\")"
   ]
  },
  {
   "cell_type": "code",
   "execution_count": 76,
   "metadata": {},
   "outputs": [
    {
     "name": "stdout",
     "output_type": "stream",
     "text": [
      "실행문자 실행\n"
     ]
    }
   ],
   "source": [
    "if True:\n",
    "    print(\"실행문자 실행\")"
   ]
  },
  {
   "cell_type": "code",
   "execution_count": 78,
   "metadata": {},
   "outputs": [],
   "source": [
    "if False:\n",
    "    print(\"실행문자 실행\")"
   ]
  },
  {
   "cell_type": "code",
   "execution_count": 79,
   "metadata": {},
   "outputs": [
    {
     "name": "stdout",
     "output_type": "stream",
     "text": [
      "실행문장 실행\n",
      "if문 밖에 있는 실행문장\n"
     ]
    }
   ],
   "source": [
    "if True:\n",
    "    print(\"실행문장 실행\")\n",
    "print(\"if문 밖에 있는 실행문장\")"
   ]
  },
  {
   "cell_type": "code",
   "execution_count": 80,
   "metadata": {},
   "outputs": [
    {
     "name": "stdout",
     "output_type": "stream",
     "text": [
      "if문 밖에 있는 실행문장\n"
     ]
    }
   ],
   "source": [
    "if False:\n",
    "    print(\"실행문장 실행\")\n",
    "print(\"if문 밖에 있는 실행문장\")"
   ]
  },
  {
   "cell_type": "code",
   "execution_count": 81,
   "metadata": {},
   "outputs": [
    {
     "name": "stdout",
     "output_type": "stream",
     "text": [
      "택시를 탄다.\n"
     ]
    }
   ],
   "source": [
    "money = 11000\n",
    "if money >= 10000 :\n",
    "    print(\"택시를 탄다.\")"
   ]
  },
  {
   "cell_type": "code",
   "execution_count": 84,
   "metadata": {
    "scrolled": true
   },
   "outputs": [
    {
     "name": "stdout",
     "output_type": "stream",
     "text": [
      "버스를 탄다\n"
     ]
    }
   ],
   "source": [
    "money = 9000\n",
    "if money>= 10000:\n",
    "    print(\"택시를 탄다.\")\n",
    "else : #else는 자체적으로 if 조건에 반대된 조건이 내포되어 있어 따로 조건 x\n",
    "    print(\"버스를 탄다\")"
   ]
  },
  {
   "cell_type": "code",
   "execution_count": 85,
   "metadata": {},
   "outputs": [
    {
     "name": "stdout",
     "output_type": "stream",
     "text": [
      "택시를 탄다.\n"
     ]
    }
   ],
   "source": [
    "money = 11000\n",
    "if money>= 10000:\n",
    "    print(\"택시를 탄다.\")\n",
    "else :\n",
    "    print(\"버스를 탄다\")"
   ]
  },
  {
   "cell_type": "code",
   "execution_count": 95,
   "metadata": {},
   "outputs": [
    {
     "name": "stdout",
     "output_type": "stream",
     "text": [
      "정수 입력 >>7\n",
      "3과 5의 배수입니다.\n"
     ]
    }
   ],
   "source": [
    "num = int(input(\"정수 입력 >>\"))\n",
    "if num % 3 and num % 5:\n",
    "    print(\"3과 5의 배수입니다.\")\n",
    "else:\n",
    "    print(\"3과 5의 배수가 아닙니다.\")"
   ]
  },
  {
   "cell_type": "code",
   "execution_count": null,
   "metadata": {},
   "outputs": [],
   "source": [
    "num = int(input(\"정수 입력 >>\"))\n",
    "if num % 3 and num % 5:\n",
    "    print(\"3과 5의 배수입니다.\")"
   ]
  },
  {
   "cell_type": "code",
   "execution_count": 100,
   "metadata": {},
   "outputs": [
    {
     "name": "stdout",
     "output_type": "stream",
     "text": [
      "정수 입력 >>25\n",
      "3과 5의 배수가 아닙니다.\n"
     ]
    }
   ],
   "source": [
    "num = int(input(\"정수 입력 >>\"))\n",
    "if num % 3 == 0 and num % 5 == 0:\n",
    "    print(\"3과 5의 배수입니다.\")\n",
    "else :\n",
    "    print(\"3과 5의 배수가 아닙니다.\")"
   ]
  },
  {
   "cell_type": "code",
   "execution_count": 102,
   "metadata": {},
   "outputs": [
    {
     "name": "stdout",
     "output_type": "stream",
     "text": [
      "점수 입력 >>30\n",
      "3과 5의 배수입니다.\n"
     ]
    }
   ],
   "source": [
    "num = int(input(\"점수 입력 >>\"))\n",
    "if num % 3 == 0 and num % 5 == 0:\n",
    "    print(\"3과 5의 배수입니다.\")\n",
    "else :\n",
    "    print(\"3과 5의 배수가 아닙니다.\")"
   ]
  },
  {
   "cell_type": "code",
   "execution_count": 125,
   "metadata": {},
   "outputs": [
    {
     "name": "stdout",
     "output_type": "stream",
     "text": [
      "마스크 개수 입력 >>17\n",
      "8개들이 포장지 개수 :  2\n",
      "5개들이 포장지 개수 :  False\n"
     ]
    }
   ],
   "source": [
    "com = int(input(\"마스크 개수 입력 >>\"))\n",
    "if com == 8 or com== 5 :\n",
    "    print(\"8개들이 포장지 개수 : \",com // 8)\n",
    "    print(\"5개들이 포장지 개수 : \",com % 8 == 0 / 5)\n",
    "else :\n",
    "    print(\"8개들이 포장지 개수 : \",com//8)\n",
    "    print(\"5개들이 포장지 개수 : \",com % 8 == 0 / 5)\n",
    "    \n",
    "    "
   ]
  },
  {
   "cell_type": "code",
   "execution_count": 129,
   "metadata": {},
   "outputs": [
    {
     "name": "stdout",
     "output_type": "stream",
     "text": [
      "마스크 개수 입력 >>24\n",
      "8개들이 포장지 개수 : 3\n",
      "5개들이 포장지 개수 : 0\n"
     ]
    }
   ],
   "source": [
    "com = int(input(\"마스크 개수 입력 >>\"))\n",
    "\n",
    "if com >=8 :\n",
    "    a = com //8           # 마스크를 8로 나눈 몫\n",
    "    b = (com % 8) // 5    # 마스크를 8로 나눈 후 나머지를 5로 나눈 몫 (5개들이 포장지 개수)\n",
    "    c = (com % 8) % 5 \n",
    "    if c > 0 :            # 8개들이 + 5개들이 포장지로 포장한 후 나머지가 있다면\n",
    "        b = b + 1         # 5개들이 포장지가 하나더 필요해 \n",
    "    print(f\"8개들이 포장지 개수 : {a}\")\n",
    "    print(f\"5개들이 포장지 개수 : {b}\")\n",
    " # 마스크 개수가 8개 미만일때 (8개들이 포장지 고려 x)   \n",
    "else :\n",
    "    b = com // 5           #5개들이 포장지 개수 \n",
    "    c = com % 5            #5개들이 포장지로 포장한 후 남은 마스크\n",
    "    \n",
    "    print(\"8개들이 포장지 개수 : 0\")\n",
    "    \n",
    "    if c == 0 :    # 입력한 마스크 개수가 5개라면\n",
    "        print(f\"5개들이 포장지 개수 : {b}\")\n",
    "    if c > 0 :       #5개들이 포장지로 포장한 후 남은 마스크가 있다면\n",
    "        print(f\"5개들이 포장지 개수 : {b+1}\")"
   ]
  },
  {
   "cell_type": "code",
   "execution_count": null,
   "metadata": {},
   "outputs": [],
   "source": [
    "com = int(input(\"마스크 개수 입력 >>\"))\n",
    "\n",
    "if ((com % 8) % 5) != 0 :\n",
    "    print(\"8개들이 포장지 개수 :\",com // 8)\n",
    "    print(\"5개들이 포장지 개수 :\",((com % 8) //"
   ]
  },
  {
   "cell_type": "code",
   "execution_count": null,
   "metadata": {},
   "outputs": [],
   "source": []
  },
  {
   "cell_type": "code",
   "execution_count": null,
   "metadata": {},
   "outputs": [],
   "source": []
  }
 ],
 "metadata": {
  "kernelspec": {
   "display_name": "Python 3",
   "language": "python",
   "name": "python3"
  },
  "language_info": {
   "codemirror_mode": {
    "name": "ipython",
    "version": 3
   },
   "file_extension": ".py",
   "mimetype": "text/x-python",
   "name": "python",
   "nbconvert_exporter": "python",
   "pygments_lexer": "ipython3",
   "version": "3.8.5"
  }
 },
 "nbformat": 4,
 "nbformat_minor": 4
}
