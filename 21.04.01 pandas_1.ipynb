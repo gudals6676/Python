{
 "cells": [
  {
   "cell_type": "code",
   "execution_count": 4,
   "metadata": {},
   "outputs": [],
   "source": [
    "import pandas as pd\n",
    "import numpy as np"
   ]
  },
  {
   "cell_type": "code",
   "execution_count": 5,
   "metadata": {},
   "outputs": [
    {
     "data": {
      "text/plain": [
       "<module 'pandas' from 'C:\\\\Users\\\\21SMT17\\\\anaconda3\\\\lib\\\\site-packages\\\\pandas\\\\__init__.py'>"
      ]
     },
     "execution_count": 5,
     "metadata": {},
     "output_type": "execute_result"
    }
   ],
   "source": [
    "pd"
   ]
  },
  {
   "cell_type": "code",
   "execution_count": 7,
   "metadata": {},
   "outputs": [
    {
     "data": {
      "text/plain": [
       "0    1\n",
       "1    2\n",
       "2    3\n",
       "3    4\n",
       "dtype: int64"
      ]
     },
     "execution_count": 7,
     "metadata": {},
     "output_type": "execute_result"
    }
   ],
   "source": [
    "####Series 생성 #####\n",
    "# 1차원, 1개의 column은 Series라고 한다.#\n",
    "pd.Series([1, 2, 3, 4])"
   ]
  },
  {
   "cell_type": "code",
   "execution_count": 26,
   "metadata": {},
   "outputs": [
    {
     "data": {
      "text/plain": [
       "0    9904124\n",
       "1    3448736\n",
       "2    2895432\n",
       "3    2466052\n",
       "dtype: int64"
      ]
     },
     "execution_count": 26,
     "metadata": {},
     "output_type": "execute_result"
    }
   ],
   "source": [
    "population = pd.Series([9904124, 3448736, 2895432, 2466052])\n",
    "population"
   ]
  },
  {
   "cell_type": "code",
   "execution_count": 27,
   "metadata": {
    "scrolled": true
   },
   "outputs": [
    {
     "data": {
      "text/plain": [
       "서울    9904124\n",
       "부산    3448736\n",
       "인천    2895432\n",
       "대구    2466052\n",
       "dtype: int64"
      ]
     },
     "execution_count": 27,
     "metadata": {},
     "output_type": "execute_result"
    }
   ],
   "source": [
    "#인덱스 지정해서 생성 #\n",
    "population= pd.Series([9904124,3448736,2895432,2466052], index= ['서울', '부산','인천','대구'])\n",
    "population"
   ]
  },
  {
   "cell_type": "code",
   "execution_count": 30,
   "metadata": {},
   "outputs": [
    {
     "data": {
      "text/plain": [
       "도시\n",
       "서울    9904124\n",
       "부산    3448736\n",
       "인천    2895432\n",
       "대구    2466052\n",
       "Name: 인구, dtype: int64"
      ]
     },
     "execution_count": 30,
     "metadata": {},
     "output_type": "execute_result"
    }
   ],
   "source": [
    "#Series에 이름 지정\n",
    "#name\n",
    "#index.name\n",
    "population.name=\"인구\"   #값에 이름 달기\n",
    "#인덱스에 이름달기\n",
    "population.index.name=\"도시\"\n",
    "population"
   ]
  },
  {
   "cell_type": "code",
   "execution_count": 29,
   "metadata": {},
   "outputs": [
    {
     "data": {
      "text/plain": [
       "0    1\n",
       "1    2\n",
       "2    3\n",
       "3    4\n",
       "dtype: int64"
      ]
     },
     "execution_count": 29,
     "metadata": {},
     "output_type": "execute_result"
    }
   ],
   "source": [
    "##인덱스 지정,인덱스 이름, 값이름 추가하기\n",
    "pd.Series([1, 2, 3, 4])"
   ]
  },
  {
   "cell_type": "code",
   "execution_count": 33,
   "metadata": {
    "scrolled": true
   },
   "outputs": [
    {
     "data": {
      "text/plain": [
       "아이디\n",
       "1번    1\n",
       "2번    2\n",
       "3번    3\n",
       "4번    4\n",
       "Name: 학생정보, dtype: int64"
      ]
     },
     "execution_count": 33,
     "metadata": {},
     "output_type": "execute_result"
    }
   ],
   "source": [
    "sd = pd.Series([1, 2, 3, 4],\n",
    "              index=[\"1번\", \"2번\", \"3번\", \"4번\"])\n",
    "sd.name = \"학생정보\"\n",
    "sd.index.name = \"아이디\"\n",
    "sd"
   ]
  },
  {
   "cell_type": "code",
   "execution_count": 34,
   "metadata": {
    "scrolled": false
   },
   "outputs": [
    {
     "name": "stdout",
     "output_type": "stream",
     "text": [
      "Series 값 확인 :  [9904124 3448736 2895432 2466052]\n",
      "Series 인덱스 확인 :  Index(['서울', '부산', '인천', '대구'], dtype='object', name='도시')\n",
      "Series 데이터타임 확인 :  int64\n"
     ]
    }
   ],
   "source": [
    "###Series 데이터 확인 ###\n",
    "# -values : 값 확인\n",
    "# -index : 인덱스 확인\n",
    "# -dtype: 타입 확인\n",
    "print(\"Series 값 확인 : \", population.values)\n",
    "print(\"Series 인덱스 확인 : \", population.index)\n",
    "print(\"Series 데이터타임 확인 : \", population.dtype)"
   ]
  },
  {
   "cell_type": "code",
   "execution_count": 37,
   "metadata": {
    "scrolled": true
   },
   "outputs": [
    {
     "name": "stdout",
     "output_type": "stream",
     "text": [
      "Series 값 확인 :  [1 2 3 4]\n",
      "Series 인덱스 확인 :  Index(['1번', '2번', '3번', '4번'], dtype='object', name='아이디')\n",
      "Series 데이터타임 확인 :  int64\n"
     ]
    }
   ],
   "source": [
    "print(\"Series 값 확인 : \",sd.values)\n",
    "print(\"Series 인덱스 확인 : \", sd.index)\n",
    "print(\"Series 데이터타임 확인 : \",sd.dtype)"
   ]
  },
  {
   "cell_type": "code",
   "execution_count": null,
   "metadata": {},
   "outputs": [],
   "source": []
  }
 ],
 "metadata": {
  "kernelspec": {
   "display_name": "Python 3",
   "language": "python",
   "name": "python3"
  },
  "language_info": {
   "codemirror_mode": {
    "name": "ipython",
    "version": 3
   },
   "file_extension": ".py",
   "mimetype": "text/x-python",
   "name": "python",
   "nbconvert_exporter": "python",
   "pygments_lexer": "ipython3",
   "version": "3.8.5"
  }
 },
 "nbformat": 4,
 "nbformat_minor": 4
}
